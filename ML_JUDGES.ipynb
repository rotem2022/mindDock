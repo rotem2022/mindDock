{
  "nbformat": 4,
  "nbformat_minor": 0,
  "metadata": {
    "colab": {
      "provenance": []
    },
    "kernelspec": {
      "name": "python3",
      "display_name": "Python 3"
    },
    "language_info": {
      "name": "python"
    },
    "gpuClass": "standard"
  },
  "cells": [
    {
      "cell_type": "markdown",
      "source": [
        "#**Understanding How Doctors Judge: Analyzing Patient Characteristics to Predict Decision-Making**\n",
        "\n",
        "Welcome to this Collab notebook, which contains the code and analysis for our main project of the degree.\n",
        "\n",
        "The project involves a dataset of patient characteristics, with the ultimate goal of determining whether a patient has psychosis or neurosis. The scale ranges from 0 (psychosis) to 11 (neurosis). In addition to patient data, there are responses from 29 different doctors.\n",
        "\n",
        "The project has three main goals:\n",
        "\n",
        "1. Predict the decision of a specific doctor.\n",
        "2. Predict the actual decision (psychosis or neurosis).\n",
        "3. Understand how doctors make their decisions.\n",
        "\n",
        "Throughout this notebook, you'll find code and analysis to help achieve these goals. I hope you find this project informative and useful, and I welcome any feedback or suggestions you may have.\n"
      ],
      "metadata": {
        "id": "oBctmPMoX73U"
      }
    },
    {
      "cell_type": "markdown",
      "source": [
        "## Data and Imports\n",
        "\n",
        "Before we begin, we need to download the dataset we'll be working with. This can be done using the `gdown` command to download the files from Google Drive. The data set contains patient characteristics and responses from 29 different doctors, with the goal of predicting whether a patient has psychosis or neurosis.\n",
        "\n",
        "In addition to downloading the data, we need to import several essential modules from the scikit-learn (sklearn) library. These modules include `RandomForestClassifier`, `LinearRegression`, `GridSearchCV`, `ParameterGrid`, `LogisticRegression`, and various modules for evaluating the performance of machine learning models (`accuracy_score`, `classification_report`, `confusion_matrix`, `mean_squared_error`). We also import the `warnings` module to handle warning messages that may arise during the execution of the code.\n",
        "\n",
        "To ensure a clean output, we suppress warnings related to convergence, future warnings, and user warnings.\n"
      ],
      "metadata": {
        "id": "F1r4Cpa1YYGC"
      }
    },
    {
      "cell_type": "code",
      "execution_count": null,
      "metadata": {
        "id": "aAFHtZz_BotB",
        "colab": {
          "base_uri": "https://localhost:8080/"
        },
        "outputId": "eb90362d-8c57-458c-c0b7-27b45b95e23a"
      },
      "outputs": [
        {
          "output_type": "stream",
          "name": "stdout",
          "text": [
            "/usr/local/lib/python3.10/dist-packages/gdown/cli.py:121: FutureWarning: Option `--id` was deprecated in version 4.3.1 and will be removed in 5.0. You don't need to pass it anymore to use a file ID.\n",
            "  warnings.warn(\n",
            "Downloading...\n",
            "From: https://drive.google.com/uc?id=1IFOqNcxAv4T7dYQCGCCESvyjlSilR3eA\n",
            "To: /content/MEELMMPI.csv\n",
            "100% 30.4k/30.4k [00:00<00:00, 78.5MB/s]\n",
            "/usr/local/lib/python3.10/dist-packages/gdown/cli.py:121: FutureWarning: Option `--id` was deprecated in version 4.3.1 and will be removed in 5.0. You don't need to pass it anymore to use a file ID.\n",
            "  warnings.warn(\n",
            "Downloading...\n",
            "From: https://drive.google.com/uc?id=1K7ILW-ldSp8Su-cN3Rdlr4NsRA91Yotk\n",
            "To: /content/MEELJUD.csv\n",
            "100% 56.3k/56.3k [00:00<00:00, 69.1MB/s]\n"
          ]
        }
      ],
      "source": [
        "import pandas as pd\n",
        "from sklearn.ensemble import RandomForestClassifier\n",
        "import numpy as np\n",
        "from sklearn.metrics import accuracy_score, precision_score, recall_score, f1_score, mean_squared_error\n",
        "from sklearn.metrics import classification_report, confusion_matrix\n",
        "from sklearn.linear_model import LinearRegression\n",
        "from sklearn.metrics import mean_squared_error\n",
        "from sklearn.model_selection import GridSearchCV, ParameterGrid\n",
        "from sklearn.linear_model import LogisticRegression\n",
        "from sklearn.exceptions import ConvergenceWarning\n",
        "import xgboost as xgb\n",
        "from sklearn.metrics import r2_score\n",
        "import warnings\n",
        "warnings.filterwarnings(\"ignore\", category=ConvergenceWarning)\n",
        "warnings.filterwarnings(\"ignore\", category=FutureWarning)\n",
        "warnings.filterwarnings(\"ignore\", category=UserWarning)\n",
        "\n",
        "#Download data set\n",
        "!gdown --id 1IFOqNcxAv4T7dYQCGCCESvyjlSilR3eA\n",
        "!gdown --id 1K7ILW-ldSp8Su-cN3Rdlr4NsRA91Yotk"
      ]
    },
    {
      "cell_type": "markdown",
      "source": [
        "### Loading the Data\n",
        "\n",
        "In this section, we load the two datasets we'll be working with: `MEELJUD.csv` and `MEELMMPI.csv`. The first dataset, `MEELJUD.csv`, contains responses from 29 different doctors, while the second dataset, `MEELMMPI.csv`, contains patient characteristics.\n",
        "\n",
        "We begin by using the `read_csv()` function from the `pandas` module to read in the two datasets. We store the `MEELJUD.csv` dataset in a variable called `judeges`, and the `MEELMMPI.csv` dataset in a variable called `data`.\n",
        "\n",
        "Next, we create a list of lists using the `iloc()` function to select all the values of each column in the `judeges` dataframe. This list will be used later for our analysis.\n"
      ],
      "metadata": {
        "id": "Y_HteZ9LYsuJ"
      }
    },
    {
      "cell_type": "code",
      "source": [
        "from sklearn.preprocessing import MinMaxScaler\n",
        "judeges = pd.read_csv('MEELJUD.csv')\n",
        "data = pd.read_csv('MEELMMPI.csv')\n",
        "\n",
        "data=data.drop(data.columns[-1],axis=1)\n",
        "#Create a list of lists where each sub-list represents a column of the 'judeges' dataframe\n",
        "#and contains all the values of that column\n",
        "judges_list = [judeges.iloc[:, i].tolist() for i in range(len(judeges.columns))]"
      ],
      "metadata": {
        "id": "orfDEpOLIj4M"
      },
      "execution_count": null,
      "outputs": []
    },
    {
      "cell_type": "code",
      "source": [
        "import json\n",
        "from google.colab import files\n",
        "import os\n",
        "def create_json_file(accuracy_score, r2_score, best_params, param_grid, cv, filename):\n",
        "    data = {\n",
        "        \"Accuracy score\": accuracy_score,\n",
        "        \"R2 Score\": r2_score,\n",
        "        \"Best Parameters\": best_params,\n",
        "        \"Parameter Grid\": param_grid,\n",
        "        \"CV\": cv\n",
        "    }\n",
        "   \n",
        "    dir_name='resaults ML Judges'\n",
        "    if not os.path.exists(dir_name):\n",
        "        os.makedirs(dir_name)\n",
        "    file_path = os.path.join(dir_name, filename)\n",
        "    with open(file_path, \"w\") as outfile:\n",
        "        json.dump(data, outfile)\n",
        "        \n",
        "    #files.download(filename)"
      ],
      "metadata": {
        "id": "FIXS49pHw_dP"
      },
      "execution_count": null,
      "outputs": []
    },
    {
      "cell_type": "markdown",
      "source": [
        "## Optimizing Machine Learning Models with Grid Search and Hyperparameter Tuning:\n",
        "\n",
        "In this part of the Colab notebook, we will be discussing three different functions for training and testing machine learning models: `run_linear_regression()`, `run_logistic_regression()`, `train_random_forest()`,and `run_xgboost()`.\n",
        "\n",
        "The `run_linear_regression()` function creates a linear regression model, performs a grid search to find the best hyperparameters, and returns the best estimator. It also prints out the best hyperparameters, accuracy score, RMSE score, model coefficients, and intercept.\n",
        "\n",
        "The `run_logistic_regression()` function creates a logistic regression classifier, performs a grid search to find the best hyperparameters, and returns the best estimator. It also prints out the best hyperparameters, accuracy score, classification report, and confusion matrix.\n",
        "\n",
        "The `train_random_forest()` function initializes a Random Forest Classifier, performs a grid search to find the best hyperparameters, and returns the best estimator. It also prints out the best hyperparameters and accuracy.\n",
        "\n",
        "The `run_xgboost()` function creates an XGBoost classifier, performs a grid search to find the best hyperparameters, and returns the best estimator. It also prints out the best hyperparameters, accuracy score, classification report, and confusion matrix.\n",
        "\n",
        "These functions can be used to train and test machine learning models on a variety of datasets.\n"
      ],
      "metadata": {
        "id": "m9ELLJ_peBbJ"
      }
    },
    {
      "cell_type": "code",
      "source": [
        "def train_random_forest(X_train, y_train, X_test, y_test, param_grid, cv=5):\n",
        "\n",
        "    clf = RandomForestClassifier()\n",
        "\n",
        "    grid_search = GridSearchCV(clf, param_grid, cv=cv, verbose=1)\n",
        "    grid_search.fit(X_train, y_train)\n",
        "\n",
        "    best_estimator = grid_search.best_estimator_\n",
        "    y_pred = best_estimator.predict(X_test)\n",
        "\n",
        "    r2=r2_score(y_test,y_pred)\n",
        "\n",
        "    print('r2_score is',r2 )\n",
        "    acc = accuracy_score(y_test, y_pred)\n",
        "    print(\"Best hyperparameters:\", grid_search.best_params_)\n",
        "    print(\"Accuracy:\", acc)\n",
        "    \n",
        "    filename=\"random forest results cv=\"+cv\n",
        "    create_json_file(acc,r2,grid_search.best_params_,param_grid,cv,filename)\n",
        "    return best_estimator\n"
      ],
      "metadata": {
        "id": "rFbQrXoTU-hr"
      },
      "execution_count": null,
      "outputs": []
    },
    {
      "cell_type": "code",
      "source": [
        "def run_logistic_regression(X_train, y_train, X_test, y_test, param_grid, cv=5):\n",
        "    # Create a logistic regression classifier\n",
        "    lr = LogisticRegression(random_state=42)\n",
        "    \n",
        "    # Perform grid search to find best hyperparameters\n",
        "    grid_search = GridSearchCV(lr, param_grid, cv=cv, verbose=1)\n",
        "    grid_search.fit(X_train, y_train)\n",
        "\n",
        "    # Print best hyperparameters and accuracy score\n",
        "    print(\"Best hyperparameters: \", grid_search.best_params_)\n",
        "    print(\"Accuracy score: \", grid_search.best_score_)\n",
        "\n",
        "    # Use best estimator to make predictions on test set\n",
        "    y_pred = grid_search.best_estimator_.predict(X_test)\n",
        "    r2=r2_score(y_test,y_pred)\n",
        "    print('r2_score is',r2 )\n",
        "    # Print classification report and confusion matrix\n",
        "    from sklearn.metrics import classification_report, confusion_matrix\n",
        "    print(\"Classification report:\")\n",
        "    print(classification_report(y_test, y_pred))\n",
        "    print(\"Confusion matrix:\")\n",
        "    print(confusion_matrix(y_test, y_pred))\n",
        "\n",
        "    # Return best estimator\n",
        "    return grid_search.best_estimator_\n",
        "\n"
      ],
      "metadata": {
        "id": "o0-z7McpK-Q8"
      },
      "execution_count": null,
      "outputs": []
    },
    {
      "cell_type": "code",
      "source": [
        "def run_linear_regression(X_train, y_train, X_test, y_test, param_grid, cv=5):\n",
        "    # Create a linear regression model\n",
        "    lr = LinearRegression()\n",
        "\n",
        "    # Perform grid search to find best hyperparameters\n",
        "    grid_search = GridSearchCV(lr, param_grid, cv=cv, n_jobs=-1, verbose=1)\n",
        "    grid_search.fit(X_train, y_train)\n",
        " \n",
        "\n",
        "    # Print best hyperparameters and RMSE score\n",
        "    print(\"Best hyperparameters: \", grid_search.best_params_)\n",
        "    print(\"Accuracy score: \", grid_search.best_score_)\n",
        "    # Use best estimator to make predictions on test set\n",
        "    y_pred = grid_search.best_estimator_.predict(X_test)\n",
        "    r2=r2_score(y_test,y_pred)\n",
        "    print('r2_score is',r2 )\n",
        "    filename=f'linear regression results with cv={cv}'\n",
        "    create_json_file(grid_search.best_score_,r2,grid_search.best_params_,param_grid,cv,filename)\n",
        "    # Return best estimator\n",
        "    return grid_search.best_estimator_"
      ],
      "metadata": {
        "id": "EmFoZDIEQJnG"
      },
      "execution_count": null,
      "outputs": []
    },
    {
      "cell_type": "code",
      "source": [
        "def run_xgboost(X_train, y_train, X_test, y_test, param_grid, cv=5):\n",
        "    # Create an XGBoost classifier\n",
        "    xgb_model = xgb.XGBRegressor(random_state=42, objective='reg:squarederror')\n",
        "    # Perform grid search to find best hyperparameters\n",
        "    \n",
        "    grid_search = GridSearchCV(xgb_model, param_grid, cv=cv, verbose=1)\n",
        "    grid_search.fit(X_train, y_train)\n",
        "    \n",
        "    # Print best hyperparameters and accuracy score\n",
        "    print(\"Best hyperparameters: \", grid_search.best_params_)\n",
        "    print(\"Accuracy score: \", grid_search.best_score_)\n",
        "\n",
        "    # Use best estimator to make predictions on test set\n",
        "    y_pred = grid_search.best_estimator_.predict(X_test)\n",
        "    r2=r2_score(y_test,y_pred)\n",
        "    print('r2_score is',r2 )\n",
        "    filename=f'XGBoost results with cv={cv}'\n",
        "    create_json_file(grid_search.best_score_,r2,grid_search.best_params_,param_grid,cv,filename)\n",
        "    # Return best estimator\n",
        "    return grid_search.best_estimator_"
      ],
      "metadata": {
        "id": "c_SHerBbdkyb"
      },
      "execution_count": null,
      "outputs": []
    },
    {
      "cell_type": "markdown",
      "source": [
        "## Splitting the data\n",
        "Before running different classifiers, we first need to split our data into training and test sets. We can achieve this using the `train_test_split()` function from the `sklearn.model_selection` module. This function randomly splits the data and labels into two sets, one for training and one for testing. We typically use a larger portion of the data for training and a smaller portion for testing. \n",
        "\n",
        "In the code block, we set the `test_size` parameter to 0.2, which means we are allocating 20% of the data for testing and 80% for training. We also set the `random_state` parameter to 42 so that we get the same split every time we run the code. \n",
        "\n",
        "You can modify the code to split the data using any of the 29 judges in the judges_list variable. Simply replace `judges_list[1]` with `judges_list[0]` to `judges_list[28]` to use a different judge's rulings as the labels. Once we have our data split into training and test sets, we can use the training set to train our classifiers and then evaluate their performance on the test set. This helps us to ensure that our models are generalizing well and not just overfitting to the training data.\n"
      ],
      "metadata": {
        "id": "Whbu3UI4iunt"
      }
    },
    {
      "cell_type": "code",
      "source": [
        "from sklearn.model_selection import train_test_split\n",
        "\n",
        "# Split the data and labels into training and test sets\n",
        "X_train, X_test, y_train, y_test = train_test_split(data, judges_list[1], test_size=0.2, random_state=42)\n"
      ],
      "metadata": {
        "id": "VxxKH5HoizY9"
      },
      "execution_count": null,
      "outputs": []
    },
    {
      "cell_type": "code",
      "source": [
        "correlations=judeges.corr()\n",
        "for col in correlations.columns:\n",
        "    for row in correlations.index:\n",
        "        value = correlations.loc[row, col]\n",
        "        if abs(value) > 0.8 and value<1.0:\n",
        "            print(f'{row} and {col}: {value}')\n",
        "correlations_above_80 = correlations[correlations.abs() > 0.8]\n",
        "\n",
        "#print(correlations_above_80)\n",
        "#highest_correlations = correlations.abs().nlargest(1,'J2')\n",
        "#(highest_correlations)"
      ],
      "metadata": {
        "colab": {
          "base_uri": "https://localhost:8080/"
        },
        "id": "1If7rrlLWlGf",
        "outputId": "cf478368-b632-4f42-fc7d-57b4a2edee75"
      },
      "execution_count": null,
      "outputs": [
        {
          "output_type": "stream",
          "name": "stdout",
          "text": [
            "J16 and J6: 0.8025437254594842\n",
            "J25 and J8: 0.8092008698991218\n",
            "J21 and J11: 0.8171830197413981\n",
            "J25 and J11: 0.8277400566295721\n",
            "J6 and J16: 0.8025437254594842\n",
            "J28 and J18: 0.8179554858551689\n",
            "J11 and J21: 0.8171830197413981\n",
            "J25 and J21: 0.8207878616056531\n",
            "J8 and J25: 0.8092008698991218\n",
            "J11 and J25: 0.8277400566295721\n",
            "J21 and J25: 0.8207878616056531\n",
            "J18 and J28: 0.8179554858551689\n"
          ]
        }
      ]
    },
    {
      "cell_type": "code",
      "source": [],
      "metadata": {
        "id": "Qth0KpqSaFTv"
      },
      "execution_count": null,
      "outputs": []
    },
    {
      "cell_type": "markdown",
      "source": [
        "\n",
        "J6 and J16: 0.8025437254594842\n",
        "J11 and J21: 0.8171830197413981<-\n",
        "J8 and J25: 0.8092008698991218      j8 is semi correlate with that group\n",
        "J11 and J25: 0.8277400566295721:<-\n",
        "J21 and J25: 0.8207878616056531<-\n",
        "J18 and J28: 0.8179554858551689  j18 and j28 correlate alone\n",
        "\n",
        "we clearly can see j11 j21 and j25\n",
        "\n",
        "\n",
        "\n",
        "##here is the judges correlations table for clustering\n",
        "##we took only correlations above 80"
      ],
      "metadata": {
        "id": "1zB1fohcaFxO"
      }
    },
    {
      "cell_type": "code",
      "source": [
        "from scipy.cluster.hierarchy import linkage, dendrogram\n",
        "# select the columns to cluster\n",
        "cols_to_cluster = [f'j{i}' for i in range(1, 29)]\n",
        "\n",
        "# calculate the linkage matrix\n",
        "Z = linkage(judeges.corr(), method='ward')\n",
        "\n",
        "# plot the dendrogram here we trying to cluster groups of judges\n",
        "dendrogram(Z, labels=judeges.columns)"
      ],
      "metadata": {
        "colab": {
          "base_uri": "https://localhost:8080/",
          "height": 1000
        },
        "id": "THaviEkCcXYY",
        "outputId": "1e1f438e-b57c-48b0-c5d6-c660da5fea1f"
      },
      "execution_count": null,
      "outputs": [
        {
          "output_type": "execute_result",
          "data": {
            "text/plain": [
              "{'icoord': [[25.0, 25.0, 35.0, 35.0],\n",
              "  [15.0, 15.0, 30.0, 30.0],\n",
              "  [55.0, 55.0, 65.0, 65.0],\n",
              "  [45.0, 45.0, 60.0, 60.0],\n",
              "  [85.0, 85.0, 95.0, 95.0],\n",
              "  [75.0, 75.0, 90.0, 90.0],\n",
              "  [52.5, 52.5, 82.5, 82.5],\n",
              "  [125.0, 125.0, 135.0, 135.0],\n",
              "  [115.0, 115.0, 130.0, 130.0],\n",
              "  [105.0, 105.0, 122.5, 122.5],\n",
              "  [175.0, 175.0, 185.0, 185.0],\n",
              "  [165.0, 165.0, 180.0, 180.0],\n",
              "  [155.0, 155.0, 172.5, 172.5],\n",
              "  [145.0, 145.0, 163.75, 163.75],\n",
              "  [113.75, 113.75, 154.375, 154.375],\n",
              "  [67.5, 67.5, 134.0625, 134.0625],\n",
              "  [22.5, 22.5, 100.78125, 100.78125],\n",
              "  [215.0, 215.0, 225.0, 225.0],\n",
              "  [205.0, 205.0, 220.0, 220.0],\n",
              "  [245.0, 245.0, 255.0, 255.0],\n",
              "  [235.0, 235.0, 250.0, 250.0],\n",
              "  [285.0, 285.0, 295.0, 295.0],\n",
              "  [275.0, 275.0, 290.0, 290.0],\n",
              "  [265.0, 265.0, 282.5, 282.5],\n",
              "  [242.5, 242.5, 273.75, 273.75],\n",
              "  [212.5, 212.5, 258.125, 258.125],\n",
              "  [195.0, 195.0, 235.3125, 235.3125],\n",
              "  [61.640625, 61.640625, 215.15625, 215.15625],\n",
              "  [5.0, 5.0, 138.3984375, 138.3984375]],\n",
              " 'dcoord': [[0.0, 0.5597158889865176, 0.5597158889865176, 0.0],\n",
              "  [0.0, 0.7949625629163513, 0.7949625629163513, 0.5597158889865176],\n",
              "  [0.0, 0.45161635945424794, 0.45161635945424794, 0.0],\n",
              "  [0.0, 0.5550706380126262, 0.5550706380126262, 0.45161635945424794],\n",
              "  [0.0, 0.4771568757434609, 0.4771568757434609, 0.0],\n",
              "  [0.0, 0.619443898034641, 0.619443898034641, 0.4771568757434609],\n",
              "  [0.5550706380126262,\n",
              "   0.6362842765926702,\n",
              "   0.6362842765926702,\n",
              "   0.619443898034641],\n",
              "  [0.0, 0.34882321673500094, 0.34882321673500094, 0.0],\n",
              "  [0.0, 0.42860881358492975, 0.42860881358492975, 0.34882321673500094],\n",
              "  [0.0, 0.45027432401281375, 0.45027432401281375, 0.42860881358492975],\n",
              "  [0.0, 0.2948126511222263, 0.2948126511222263, 0.0],\n",
              "  [0.0, 0.3508461498625176, 0.3508461498625176, 0.2948126511222263],\n",
              "  [0.0, 0.43271375683855184, 0.43271375683855184, 0.3508461498625176],\n",
              "  [0.0, 0.474345362969038, 0.474345362969038, 0.43271375683855184],\n",
              "  [0.45027432401281375,\n",
              "   0.6616414909649699,\n",
              "   0.6616414909649699,\n",
              "   0.474345362969038],\n",
              "  [0.6362842765926702,\n",
              "   0.8527882258461735,\n",
              "   0.8527882258461735,\n",
              "   0.6616414909649699],\n",
              "  [0.7949625629163513,\n",
              "   1.4554073736552122,\n",
              "   1.4554073736552122,\n",
              "   0.8527882258461735],\n",
              "  [0.0, 0.5656871620478724, 0.5656871620478724, 0.0],\n",
              "  [0.0, 0.6138755918649822, 0.6138755918649822, 0.5656871620478724],\n",
              "  [0.0, 0.260646835032858, 0.260646835032858, 0.0],\n",
              "  [0.0, 0.38902275180344514, 0.38902275180344514, 0.260646835032858],\n",
              "  [0.0, 0.35764109575724634, 0.35764109575724634, 0.0],\n",
              "  [0.0, 0.37971053388478127, 0.37971053388478127, 0.35764109575724634],\n",
              "  [0.0, 0.41452001338832, 0.41452001338832, 0.37971053388478127],\n",
              "  [0.38902275180344514,\n",
              "   0.6590328474023216,\n",
              "   0.6590328474023216,\n",
              "   0.41452001338832],\n",
              "  [0.6138755918649822,\n",
              "   0.9595892852684624,\n",
              "   0.9595892852684624,\n",
              "   0.6590328474023216],\n",
              "  [0.0, 2.064484751960209, 2.064484751960209, 0.9595892852684624],\n",
              "  [1.4554073736552122,\n",
              "   2.2672585610294265,\n",
              "   2.2672585610294265,\n",
              "   2.064484751960209],\n",
              "  [0.0, 5.793163025330584, 5.793163025330584, 2.2672585610294265]],\n",
              " 'ivl': ['SAMPLE ',\n",
              "  'J17',\n",
              "  'J1',\n",
              "  'J4',\n",
              "  'J24',\n",
              "  'J3',\n",
              "  'J12',\n",
              "  'J23',\n",
              "  'J7',\n",
              "  'J13',\n",
              "  'J29',\n",
              "  'J6',\n",
              "  'J5',\n",
              "  'J16',\n",
              "  'J26',\n",
              "  'J15',\n",
              "  'J2',\n",
              "  'J18',\n",
              "  'J28',\n",
              "  'J14',\n",
              "  'J27',\n",
              "  'J10',\n",
              "  'J20',\n",
              "  'J21',\n",
              "  'J11',\n",
              "  'J25',\n",
              "  'J19',\n",
              "  'J22',\n",
              "  'J8',\n",
              "  'J9'],\n",
              " 'leaves': [29,\n",
              "  16,\n",
              "  0,\n",
              "  3,\n",
              "  23,\n",
              "  2,\n",
              "  11,\n",
              "  22,\n",
              "  6,\n",
              "  12,\n",
              "  28,\n",
              "  5,\n",
              "  4,\n",
              "  15,\n",
              "  25,\n",
              "  14,\n",
              "  1,\n",
              "  17,\n",
              "  27,\n",
              "  13,\n",
              "  26,\n",
              "  9,\n",
              "  19,\n",
              "  20,\n",
              "  10,\n",
              "  24,\n",
              "  18,\n",
              "  21,\n",
              "  7,\n",
              "  8],\n",
              " 'color_list': ['C1',\n",
              "  'C1',\n",
              "  'C1',\n",
              "  'C1',\n",
              "  'C1',\n",
              "  'C1',\n",
              "  'C1',\n",
              "  'C1',\n",
              "  'C1',\n",
              "  'C1',\n",
              "  'C1',\n",
              "  'C1',\n",
              "  'C1',\n",
              "  'C1',\n",
              "  'C1',\n",
              "  'C1',\n",
              "  'C1',\n",
              "  'C1',\n",
              "  'C1',\n",
              "  'C1',\n",
              "  'C1',\n",
              "  'C1',\n",
              "  'C1',\n",
              "  'C1',\n",
              "  'C1',\n",
              "  'C1',\n",
              "  'C1',\n",
              "  'C1',\n",
              "  'C0'],\n",
              " 'leaves_color_list': ['C0',\n",
              "  'C1',\n",
              "  'C1',\n",
              "  'C1',\n",
              "  'C1',\n",
              "  'C1',\n",
              "  'C1',\n",
              "  'C1',\n",
              "  'C1',\n",
              "  'C1',\n",
              "  'C1',\n",
              "  'C1',\n",
              "  'C1',\n",
              "  'C1',\n",
              "  'C1',\n",
              "  'C1',\n",
              "  'C1',\n",
              "  'C1',\n",
              "  'C1',\n",
              "  'C1',\n",
              "  'C1',\n",
              "  'C1',\n",
              "  'C1',\n",
              "  'C1',\n",
              "  'C1',\n",
              "  'C1',\n",
              "  'C1',\n",
              "  'C1',\n",
              "  'C1',\n",
              "  'C1']}"
            ]
          },
          "metadata": {},
          "execution_count": 10
        },
        {
          "output_type": "display_data",
          "data": {
            "text/plain": [
              "<Figure size 640x480 with 1 Axes>"
            ],
            "image/png": "[encoded data removed]"
          },
          "metadata": {}
        }
      ]
    },
    {
      "cell_type": "code",
      "source": [
        "import seaborn as sns\n",
        "\n",
        "sns.clustermap(judeges.corr(), cmap=\"mako\")\n"
      ],
      "metadata": {
        "colab": {
          "base_uri": "https://localhost:8080/",
          "height": 1000
        },
        "id": "u7kwfM0ueyC5",
        "outputId": "6e16c6ac-d259-4454-a5fe-1eb5c58a90d0"
      },
      "execution_count": null,
      "outputs": [
        {
          "output_type": "execute_result",
          "data": {
            "text/plain": [
              "<seaborn.matrix.ClusterGrid at 0x7f00afa70970>"
            ]
          },
          "metadata": {},
          "execution_count": 11
        },
        {
          "output_type": "display_data",
          "data": {
            "text/plain": [
              "<Figure size 1000x1000 with 4 Axes>"
            ],
            "image/png": "[encoded data removed]"
          },
          "metadata": {}
        }
      ]
    },
    {
      "cell_type": "code",
      "source": [
        "from sklearn.decomposition import PCA\n",
        "import matplotlib.pyplot as plt\n",
        "\n",
        "pca = PCA(n_components=2)\n",
        "pca.fit(judeges.values)\n",
        "\n",
        "fig, ax = plt.subplots()\n",
        "for i, cluster in enumerate(set(Z[:, 3])):\n",
        "    idx = (Z[:, 3] == cluster)\n",
        "    ax.scatter(pca.components_[0, idx], pca.components_[1, idx], label=f'Cluster {i}')\n",
        "ax.legend()\n",
        "plt.show()\n"
      ],
      "metadata": {
        "colab": {
          "base_uri": "https://localhost:8080/",
          "height": 662
        },
        "id": "lcQpOpbrfA6A",
        "outputId": "d49eb5e6-7b0e-4a95-ea2f-bcdda067b687"
      },
      "execution_count": null,
      "outputs": [
        {
          "output_type": "error",
          "ename": "IndexError",
          "evalue": "ignored",
          "traceback": [
            "\u001b[0;31m---------------------------------------------------------------------------\u001b[0m",
            "\u001b[0;31mIndexError\u001b[0m                                Traceback (most recent call last)",
            "\u001b[0;32m<ipython-input-12-932aa503f64a>\u001b[0m in \u001b[0;36m<cell line: 8>\u001b[0;34m()\u001b[0m\n\u001b[1;32m      8\u001b[0m \u001b[0;32mfor\u001b[0m \u001b[0mi\u001b[0m\u001b[0;34m,\u001b[0m \u001b[0mcluster\u001b[0m \u001b[0;32min\u001b[0m \u001b[0menumerate\u001b[0m\u001b[0;34m(\u001b[0m\u001b[0mset\u001b[0m\u001b[0;34m(\u001b[0m\u001b[0mZ\u001b[0m\u001b[0;34m[\u001b[0m\u001b[0;34m:\u001b[0m\u001b[0;34m,\u001b[0m \u001b[0;36m3\u001b[0m\u001b[0;34m]\u001b[0m\u001b[0;34m)\u001b[0m\u001b[0;34m)\u001b[0m\u001b[0;34m:\u001b[0m\u001b[0;34m\u001b[0m\u001b[0;34m\u001b[0m\u001b[0m\n\u001b[1;32m      9\u001b[0m     \u001b[0midx\u001b[0m \u001b[0;34m=\u001b[0m \u001b[0;34m(\u001b[0m\u001b[0mZ\u001b[0m\u001b[0;34m[\u001b[0m\u001b[0;34m:\u001b[0m\u001b[0;34m,\u001b[0m \u001b[0;36m3\u001b[0m\u001b[0;34m]\u001b[0m \u001b[0;34m==\u001b[0m \u001b[0mcluster\u001b[0m\u001b[0;34m)\u001b[0m\u001b[0;34m\u001b[0m\u001b[0;34m\u001b[0m\u001b[0m\n\u001b[0;32m---> 10\u001b[0;31m     \u001b[0max\u001b[0m\u001b[0;34m.\u001b[0m\u001b[0mscatter\u001b[0m\u001b[0;34m(\u001b[0m\u001b[0mpca\u001b[0m\u001b[0;34m.\u001b[0m\u001b[0mcomponents_\u001b[0m\u001b[0;34m[\u001b[0m\u001b[0;36m0\u001b[0m\u001b[0;34m,\u001b[0m \u001b[0midx\u001b[0m\u001b[0;34m]\u001b[0m\u001b[0;34m,\u001b[0m \u001b[0mpca\u001b[0m\u001b[0;34m.\u001b[0m\u001b[0mcomponents_\u001b[0m\u001b[0;34m[\u001b[0m\u001b[0;36m1\u001b[0m\u001b[0;34m,\u001b[0m \u001b[0midx\u001b[0m\u001b[0;34m]\u001b[0m\u001b[0;34m,\u001b[0m \u001b[0mlabel\u001b[0m\u001b[0;34m=\u001b[0m\u001b[0;34mf'Cluster {i}'\u001b[0m\u001b[0;34m)\u001b[0m\u001b[0;34m\u001b[0m\u001b[0;34m\u001b[0m\u001b[0m\n\u001b[0m\u001b[1;32m     11\u001b[0m \u001b[0max\u001b[0m\u001b[0;34m.\u001b[0m\u001b[0mlegend\u001b[0m\u001b[0;34m(\u001b[0m\u001b[0;34m)\u001b[0m\u001b[0;34m\u001b[0m\u001b[0;34m\u001b[0m\u001b[0m\n\u001b[1;32m     12\u001b[0m \u001b[0mplt\u001b[0m\u001b[0;34m.\u001b[0m\u001b[0mshow\u001b[0m\u001b[0;34m(\u001b[0m\u001b[0;34m)\u001b[0m\u001b[0;34m\u001b[0m\u001b[0;34m\u001b[0m\u001b[0m\n",
            "\u001b[0;31mIndexError\u001b[0m: boolean index did not match indexed array along dimension 1; dimension is 30 but corresponding boolean dimension is 29"
          ]
        },
        {
          "output_type": "display_data",
          "data": {
            "text/plain": [
              "<Figure size 640x480 with 1 Axes>"
            ],
            "image/png": "[encoded data removed]"
          },
          "metadata": {}
        }
      ]
    },
    {
      "cell_type": "code",
      "source": [
        "from pandas.plotting import parallel_coordinates\n",
        "\n",
        "judeges['cluster'] = pd.Series(Z[:, 3]).astype(int).astype(str)\n",
        "\n",
        "parallel_coordinates(judeges, 'cluster', color=['red', 'green', 'blue'])\n"
      ],
      "metadata": {
        "id": "aEHQClJHf1lb"
      },
      "execution_count": null,
      "outputs": []
    },
    {
      "cell_type": "code",
      "source": [
        "###idea:here we check few regressors without touching the hyperparameters to have intuition about models to explore\n",
        "from sklearn.model_selection import cross_val_score\n",
        "from sklearn.linear_model import LinearRegression\n",
        "from sklearn.tree import DecisionTreeRegressor\n",
        "from sklearn.ensemble import RandomForestRegressor\n",
        "\n",
        "def find_best_regressor(X, y, cv=5):\n",
        "    # Define a list of regressor models to try\n",
        "    regressors = [\n",
        "        SVR(),\n",
        "        xgb.XGBRegressor(random_state=42, objective='reg:squarederror'),\n",
        "        LinearRegression(),\n",
        "        DecisionTreeRegressor(),\n",
        "        RandomForestRegressor()\n",
        "    ]\n",
        "    \n",
        "    # Define a dictionary to store the cross-validation scores for each model\n",
        "    scores = {}\n",
        "    \n",
        "    # Iterate over each regressor model and compute its cross-validation score\n",
        "    for regressor in regressors:\n",
        "        score = cross_val_score(regressor, X, y, cv=cv).mean()\n",
        "        scores[regressor.__class__.__name__] = score\n",
        "\n",
        "    # Return the regressor with the highest cross-validation score\n",
        "    print(scores)\n",
        "    return max(scores, key=scores.get)\n"
      ],
      "metadata": {
        "id": "N8n6eXNIi6UP"
      },
      "execution_count": null,
      "outputs": []
    },
    {
      "cell_type": "code",
      "source": [
        "from sklearn.preprocessing import StandardScaler\n",
        "scaler = StandardScaler()\n",
        "data = pd.DataFrame(scaler.fit_transform(data), columns=data.columns)"
      ],
      "metadata": {
        "id": "Lanwef92iBRM"
      },
      "execution_count": null,
      "outputs": []
    },
    {
      "cell_type": "markdown",
      "source": [
        "## Hyperparameter Tuning with Grid Search\n",
        "\n",
        "Hyperparameter tuning is an important step in building machine learning models. It involves finding the optimal combination of hyperparameters that can best fit the data and produce accurate predictions. One common approach to hyperparameter tuning is grid search, which involves systematically testing different combinations of hyperparameters and evaluating their performance.\n",
        "\n",
        "In this section, we'll be using grid search to optimize the performance of three machine learning models: random forest classifier, logistic regression classifier, and linear regression model. We will define different parameter grids for each model and use the `GridSearchCV` function from scikit-learn to perform the grid search. Finally, we will evaluate the performance of the optimized models on the test set.\n"
      ],
      "metadata": {
        "id": "WhutZk_Hekeo"
      }
    },
    {
      "cell_type": "code",
      "source": [
        "cv_list=range(4,10)"
      ],
      "metadata": {
        "id": "VIPB8F2trmNL"
      },
      "execution_count": null,
      "outputs": []
    },
    {
      "cell_type": "code",
      "source": [
        "linear_param_grid = {\n",
        "    'fit_intercept': [True, False],\n",
        "    'copy_X': [True, False],\n",
        "    'n_jobs': [-1, None, 2],\n",
        "    'positive': [True, False],\n",
        "    \n",
        "}\n",
        "for cv in cv_list:\n",
        "  print(\"RUN ON CV \",cv)\n",
        "  linear_best_estimator = run_linear_regression(X_train, y_train, X_test, y_test, linear_param_grid ,cv=cv)\n"
      ],
      "metadata": {
        "id": "fQsUl5f4tmg4"
      },
      "execution_count": null,
      "outputs": []
    },
    {
      "cell_type": "markdown",
      "source": [
        "XGBOOST chat gpt summury \n",
        "\n",
        "learning_rate: Controls the step size shrinkage used in each boosting iteration. A smaller learning rate typically results in a more accurate model, but requires more boosting iterations.\n",
        "\n",
        "max_depth: Controls the maximum depth of the tree. A deeper tree can capture more complex relationships in the data, but can also lead to overfitting.\n",
        "\n",
        "min_child_weight: Controls the minimum sum of instance weight needed in a child. A higher value of min_child_weight can help reduce overfitting.\n",
        "\n",
        "subsample: Controls the fraction of the training data used in each boosting iteration. A lower value of subsample can help reduce overfitting.\n",
        "\n",
        "colsample_bytree: Controls the fraction of features used in each boosting iteration. A lower value of colsample_bytree can help reduce overfitting.\n",
        "\n",
        "gamma: Controls the minimum loss reduction required to split a node. A higher value of gamma can help reduce overfitting.\n",
        "\n",
        "alpha: Controls L1 regularization on the leaf weights. A higher value of alpha can help reduce overfitting.\n",
        "\n",
        "lambda: Controls L2 regularization on the leaf weights. A higher value of lambda can help reduce overfitting.\n",
        "\n",
        "scale_pos_weight: Controls the balance of positive and negative weights in the training data. A higher value of scale_pos_weight can help improve model performance when the data is imbalanced.\n",
        "\n"
      ],
      "metadata": {
        "id": "ErgyTdRkGyjM"
      }
    },
    {
      "cell_type": "code",
      "source": [
        "\n",
        "\n",
        "\n",
        "XGBoost_param_grid = {\n",
        "        'learning_rate': [0.1],\n",
        "        'min_child_weight': [10],\n",
        "        'gamma': [ 5],\n",
        "        'subsample': [ 1.0],\n",
        "        'colsample_bytree': [0.8 ],\n",
        "        'max_depth': [ 11 ]\n",
        "        }\n",
        "\n",
        "\n",
        "\n",
        "\n",
        "# run XGBoost with the modified target variables\n",
        "#for cv in cv_list:\n",
        "XGBoost_best_estimator = run_xgboost(X_train, y_train, X_test, y_test, XGBoost_param_grid,cv=5)"
      ],
      "metadata": {
        "id": "uXMgXSCjKlGm"
      },
      "execution_count": null,
      "outputs": []
    },
    {
      "cell_type": "markdown",
      "source": [
        "tryng smote to enrich the data set for train\n",
        "its looks like it dosnt help need to operate it better\n",
        "r_2 score dosnt improve accuracy not logical (negative)"
      ],
      "metadata": {
        "id": "dqhZUJmja9BJ"
      }
    },
    {
      "cell_type": "code",
      "source": [
        "\n",
        "import resreg\n",
        "import smogn \n",
        "\n",
        "#smoter section\n",
        "# Create an instance of the SMOTER oversampler\n",
        "relevance = resreg.sigmoid_relevance(y_train, cl=None, ch=np.percentile(y_train, 90))\n",
        "X_smoter, y_smoter = resreg.smoter(\n",
        "X_train, y_train,\n",
        "k=5,\n",
        "over=\"balance\",\n",
        "relevance=relevance,\n",
        "under=0.33,\n",
        "random_state=0,\n",
        "nominal=None)\n",
        "\n"
      ],
      "metadata": {
        "id": "4_7WJsojZuWX"
      },
      "execution_count": null,
      "outputs": []
    },
    {
      "cell_type": "code",
      "source": [
        "!pip install resreg\n",
        "!pip install smogn"
      ],
      "metadata": {
        "id": "VNFyL7ttYPdr"
      },
      "execution_count": null,
      "outputs": []
    },
    {
      "cell_type": "code",
      "source": [
        "import matplotlib.pyplot as plt\n",
        "fig, ax = plt.subplots(figsize=(20, 10))\n",
        "xgb.plot_tree(XGBoost_best_estimator, num_trees=75, ax=ax)\n",
        "plt.show()"
      ],
      "metadata": {
        "id": "p-MBjqkIK-Y_"
      },
      "execution_count": null,
      "outputs": []
    },
    {
      "cell_type": "code",
      "source": [
        "import matplotlib.pyplot as plt\n",
        "\n",
        "# Plot feature importance\n",
        "fig, ax = plt.subplots(figsize=(10, 8))\n",
        "xgb.plot_importance(XGBoost_best_estimator, ax=ax)\n",
        "plt.show()\n"
      ],
      "metadata": {
        "id": "qANcMvDURejl"
      },
      "execution_count": null,
      "outputs": []
    },
    {
      "cell_type": "code",
      "source": [
        "import sklearn\n",
        "from sklearn import inspection\n",
        "import shap\n",
        "#from sklearn.inspection import plot_partial_dependence\n",
        "\n",
        "# Select the features to create PDP plots for\n",
        "features = ['S1', 'S2']\n",
        "\n",
        "# Plot partial dependence for the selected features\n",
        "fig, ax = plt.subplots(figsize=(10, 8))\n",
        "shap.plots.partial_dependence(XGBoost_best_estimator, X_train, features, ax=ax)\n",
        "plt.show()\n"
      ],
      "metadata": {
        "id": "yyYDkrZnR_s4"
      },
      "execution_count": null,
      "outputs": []
    },
    {
      "cell_type": "code",
      "source": [
        "from imblearn.over_sampling import SMOTE\n",
        "\n",
        "from sklearn.datasets import make_regression\n",
        "from sklearn.model_selection import train_test_split\n",
        "from sklearn.linear_model import LinearRegression\n",
        "from sklearn.metrics import mean_squared_error\n",
        "\n",
        "\n",
        "\n",
        "\n",
        "# Create an instance of the SMOTER oversampler\n",
        "smote=SMOTE()\n",
        "\n",
        "\n",
        "# Apply SMOTER to the training data\n",
        "X_train_resampled, y_train_resampled = smote.fit_resample(X_train, y_train)\n",
        "\n",
        "# Train a linear regression model on the resampled data\n",
        "#lr = LinearRegression()\n",
        "#lr.fit(X_train_resampled, y_train_resampled)\n",
        "XGBoost_best_estimator = run_xgboost(X_train_resampled, y_train_resampled, X_test, y_test, XGBoost_param_grid,cv=5)\n",
        "\n",
        "# Make predictions on the test data\n",
        "y_pred = lr.predict(X_test)\n",
        "\n",
        "\n",
        "# Calculate the mean squared error\n",
        "mse = mean_squared_error(y_test, y_pred)\n",
        "print(f\"Mean squared error: {mse:.2f}\")\n"
      ],
      "metadata": {
        "id": "NHcF9NVQRAd_"
      },
      "execution_count": null,
      "outputs": []
    },
    {
      "cell_type": "code",
      "source": [
        "pip install imbalanced-learn==0.7.0\n",
        "\n"
      ],
      "metadata": {
        "id": "h_N9MgjHTfOh"
      },
      "execution_count": null,
      "outputs": []
    },
    {
      "cell_type": "markdown",
      "source": [
        "#here we use support vector regression model\n",
        "\n",
        "```\n",
        "# This is formatted as code\n",
        "```\n",
        "Support Vector Regression: This is a model that tries to find a hyperplane that separates the inputs into different classes based on their values. It can be effective for small to medium-sized datasets, and can handle non-linear relationships with the use of kernel functions.\n",
        "\n",
        "\n",
        "hyper parameters:\n",
        "kernel: The type of kernel function to use in the SVM. Some popular options are 'linear', 'poly', and 'rbf'.\n",
        "\n",
        "C: The regularization parameter. Larger values of C will result in a smaller margin and allow for more misclassifications, while smaller values of C will result in a larger margin and fewer misclassifications.\n",
        "\n",
        "gamma: The kernel coefficient for 'rbf', 'poly', and 'sigmoid' kernels. This parameter controls the shape of the decision boundary. Larger values of gamma will result in a more complex decision boundary, while smaller values of gamma will result in a simpler decision boundary.\n",
        "\n",
        "degree: The degree of the polynomial kernel function (for 'poly' kernel).\n",
        "\n"
      ],
      "metadata": {
        "id": "xZ1pMpLuUg-6"
      }
    },
    {
      "cell_type": "code",
      "source": [
        "from sklearn.svm import SVR\n",
        "from sklearn.model_selection import train_test_split\n",
        "from sklearn.metrics import mean_squared_error\n",
        "param_grid = {\n",
        "    'kernel': [  'rbf'],\n",
        "    'C': [1e3,0.1, 1, 10],\n",
        "    'gamma': ['scale', 'auto', 0.1, 1],\n",
        "    'degree': [2, 3, 4]\n",
        "}\n",
        "svr=SVR()\n",
        "#best_params = find_best_params(X_train, y_train, param_grid)\n",
        "grid_search = GridSearchCV(estimator=svr, param_grid=param_grid, cv=5, n_jobs=-1)\n",
        "\n",
        "# fit the GridSearchCV object to the data\n",
        "grid_search.fit(X_train, y_train)\n",
        "\n",
        "print('accuracy is ',grid_search.best_score_)\n",
        "print('best params is ',grid_search.best_params_)"
      ],
      "metadata": {
        "id": "dSXX4WWzKb1J"
      },
      "execution_count": null,
      "outputs": []
    },
    {
      "cell_type": "code",
      "source": [
        "ypred=grid_search.predict(X_test)\n",
        "r_2=r2_score(y_test,ypred)\n",
        "print('r2 score: ',r_2)"
      ],
      "metadata": {
        "id": "JH_qiWuCfecF"
      },
      "execution_count": null,
      "outputs": []
    },
    {
      "cell_type": "code",
      "source": [],
      "metadata": {
        "id": "kgQTQ9I8i1lI"
      },
      "execution_count": null,
      "outputs": []
    },
    {
      "cell_type": "code",
      "source": [
        "\n",
        "import shap\n",
        "explainer = shap.TreeExplainer(XGBoost_best_estimator)\n",
        "shap_values = explainer.shap_values(X_train)\n",
        "for i in range (0,11):\n",
        "  shap.dependence_plot(i, shap_values, X_train.values, feature_names=X_train.columns)"
      ],
      "metadata": {
        "id": "aqBmK6M9TQOL"
      },
      "execution_count": null,
      "outputs": []
    },
    {
      "cell_type": "code",
      "source": [
        "booster = XGBoost_best_estimator.get_booster()\n",
        "\n",
        "# Extract the tree structure as a DataFrame\n",
        "trees = booster.trees_to_dataframe()\n",
        "\n",
        "# Print the tree structure and their values\n",
        "for i in range(XGBoost_best_estimator.n_estimators):\n",
        "    tree = trees[trees['Tree'] == i]\n",
        "    print(f\"Tree {i}:\\n{tree[['Feature', 'Split', 'Yes', 'No']].to_string(index=False)}\\n\")"
      ],
      "metadata": {
        "id": "2-KbjIjhNCUi"
      },
      "execution_count": null,
      "outputs": []
    },
    {
      "cell_type": "code",
      "source": [
        "importance = XGBoost_best_estimator.get_score(importance_type='weight')\n",
        "\n",
        "# Print a table of the feature importance scores\n",
        "print('Feature\\t\\tWeight')\n",
        "for feat, weight in sorted(importance.items(), key=lambda x: x[1], reverse=True):\n",
        "    print('{}\\t\\t{}'.format(feat, weight))"
      ],
      "metadata": {
        "id": "zCTpg62sQmvW"
      },
      "execution_count": null,
      "outputs": []
    },
    {
      "cell_type": "code",
      "source": [
        "xgb.plot_tree(XGBoost_best_estimator, num_trees=3, rankdir='LR')"
      ],
      "metadata": {
        "id": "c9DDSfxUL6aq"
      },
      "execution_count": null,
      "outputs": []
    },
    {
      "cell_type": "code",
      "source": [
        "random_forest_param_grid = {\n",
        "    'n_estimators': [50, 100, 200],\n",
        "    'max_depth': [5, 10, 15],\n",
        "    'min_samples_split': [2, 5, 10]\n",
        "}\n",
        "for cv in cv_list:\n",
        "  print(\"RUN ON CV \",cv)\n",
        "  random_forest_best_estimator = train_random_forest(X_train, y_train, X_test, y_test, random_forest_param_grid,cv=cv)\n",
        "  "
      ],
      "metadata": {
        "id": "Y_jYhExHaaQ4"
      },
      "execution_count": null,
      "outputs": []
    },
    {
      "cell_type": "markdown",
      "source": [
        "This part of the code computes the training and test errors for each of the three models used in the analysis. The training error is the error rate of the model on the data used to train it, while the test error is the error rate on data that the model has not been trained on.\n",
        "\n",
        "For the random forest and logistic regression models, accuracy is used to measure error rate. The mean squared error is used to measure error rate for the linear regression model.\n"
      ],
      "metadata": {
        "id": "jaUWaDtwhRd3"
      }
    },
    {
      "cell_type": "markdown",
      "source": [
        "##TODO list: 20.3.23\n",
        "\n",
        "* open up class that do all the work for a better readable code. in all of us meeting\n",
        "\n",
        "\n",
        "all missions 1-3 to next meeting !!!!.\n",
        "------------------------------------------------------\n",
        "* after all above done trying to see how it works on other judges .\n",
        "\n",
        "* make our on cluster method(find groups of simmilar patient (maybe later groups of simillar judges) .\n",
        "\n",
        "* create universal judge hope to be better than all others .\n",
        "\n",
        "* george hipothesis - see the difference between judges test values by the difference of thier decision trees(as much as the test is higher in the tree hyrarchy is more valuable).\n",
        " \n",
        "tasks performed:\n",
        "------------------------------------------------------\n",
        "transform the data after understanding the meaning of the resaults(will be in the above class) .   \n",
        "* **tryed with no succses** (we tried to normalize the data set with no prediction improve)\n",
        "\n",
        "keep investigate all hyper parameters meaning and improve regressors accuracy  \n",
        "*  **we saw that the hyperparamters values changing between judges**  \n",
        " **best result above**\n",
        "\n",
        "visualize the paramters of each model that we trained  \n",
        "* **We ploted the models trees, SHAP values, feature importance**\n",
        "\n",
        "## Best results for judge 1 \n",
        "* Best hyperparameters:  {'colsample_bytree': 0.8, 'gamma': 5, 'learning_rate': 0.1, 'max_depth': 11, 'min_child_weight': 10, 'subsample': 1.0}  \n",
        "* Accuracy score:  0.7019679695173962  \n",
        "* r2_score : 0.7858427941966044\n"
      ],
      "metadata": {
        "id": "ez17PdzQCqwZ"
      }
    },
    {
      "cell_type": "markdown",
      "source": [
        "## Tree model\n",
        "Our goal is to train a model for the decisions of every doctor. We'll start by creating decision trees for each doctor. To measure the differences between two doctors' models, we'll use one of two methods:\n",
        "\n",
        "\\begin{itemize}\n",
        "    \\item Option 1: involves representing each leaf node in a decision tree as the intersection of multiple half-planes. That is, each condition in the decision tree is a half-plane, and when we traverse along a root-to-leaf node of the decision tree we identify the intersection of all the half-planes. In other words, every leaf node of the decision tree represents a ``cell'' in the input space, and all the points in this cell get the same answer of either neurotic or psychotic by the model of the doctor. To measure the difference between two doctors, we compute the area of where the two models disagree. \n",
        "\n",
        "    \\item Option 2: involves scanning the decision trees using a pre-order, in-order, or post-order traversal to obtain a string representation for each tree. To measure the distance between two trees, compute edit-distance between the two representative strings. \n",
        "\\end{itemize}\n",
        "\n",
        "Hence, our first step is to train a decision tree model for every doctor. \n",
        "\n",
        "Next, to measure the distances between different models, we can present the distances as a confusion matrix. In position $(i,j)$ of the confusion matrix we write the distance $d(i,j)$ between model of doctor $i$ and the model of doctor $j$ with one of the distance measurements that we described above. We can display the confusion matrix in a colorful way as a heatmap to better visualize the differences and similarities.\n",
        "\n",
        "Finally, we can try to use all the decision trees to create a ``super''-doctor model where we divide the plane according to all trees, and in each cell the decision of whether this cell is neurotic or psychotic is chosen by taking a majority voting according to all the single-doctor models. This forms some sort of an ensemble model that represents the super-doctor. \n",
        "\n",
        "\n",
        "## Other questions that may be interesting:\n",
        "\n",
        "\\begin{itemize}\n",
        "\\item Improve the XGBoost prediction by a more sophisticated tuning of the hyper-parameters.\n",
        "\n",
        "\\item Learn on a group of judges and test on other judges. This experiment aims to evaluate the generalizability of the learned models across different judges and to identify whether certain judges have more consistent or accurate decision-making processes than others.\n",
        "\n",
        "\\item Learn on all judges and compare the predictions to the absolute results. This experiment aims to assess the overall accuracy of the learned models and to identify which patient characteristics have the most significant impact on decision-making.\n",
        "\n",
        "\\item Cluster similar judges and investigate whether they have common characteristics or decision-making processes. This experiment aims to identify patterns in decision-making and to provide insights into the factors that influence judgments.\n",
        "\\end{itemize}\n",
        "\n",
        "To accomplish these tasks, we will utilize the previously developed functions and apply them to the Meehl's dataset on clinical judgment. Our methodology will involve training and testing machine learning models using the different learning methods mentioned above. We will use cross-validation techniques to evaluate the performance of the models and determine the best method for predicting patient characteristics and decision-making outcomes.\n",
        "\n",
        "\n",
        "## Things we tried\n"
      ],
      "metadata": {
        "id": "SYJccTcxTNTc"
      }
    },
    {
      "cell_type": "code",
      "source": [
        "def load_the_data():\n",
        "    from sklearn.preprocessing import MinMaxScaler\n",
        "    judeges = pd.read_csv('MEELJUD.csv')\n",
        "    data = pd.read_csv('MEELMMPI.csv')\n",
        "\n",
        "    judeges=judeges.drop(judeges.columns[-1],axis=1)\n",
        "    data=data.drop(data.columns[-1],axis=1)\n",
        "    \n",
        "    #Create a list of lists where each sub-list represents a column of the 'judeges' dataframe and contains all the values of that column\n",
        "    judges_list = [judeges.iloc[:, i].tolist() for i in range(len(judeges.columns))]#len(judeges.columns))\n",
        "    return data, judges_list, judeges.columns\n",
        "\n",
        "data, judges_list, judges_names = load_the_data()\n",
        "\n",
        "def show_tree(X, y):\n",
        "    import numpy as np\n",
        "    import pandas as pd\n",
        "    import matplotlib.pyplot as plt\n",
        "    from sklearn.tree import DecisionTreeClassifier\n",
        "    from sklearn import datasets\n",
        "    from sklearn import tree\n",
        "    from sklearn.model_selection import train_test_split\n",
        "    from sklearn.tree import DecisionTreeClassifier\n",
        "    from sklearn.metrics import confusion_matrix\n",
        "\n",
        "    clf = DecisionTreeClassifier(max_depth=3)\n",
        "    decision_trees = {}\n",
        "    confusion_matrics = []\n",
        "\n",
        "    X_train, X_test = train_test_split(X, test_size=0.2, random_state=42)\n",
        "    for i, doctor in enumerate(y):\n",
        "        # split the data and labels into training and test sets\n",
        "        y_train, y_test = train_test_split(doctor, test_size=0.2, random_state=42)\n",
        "        \n",
        "        # Create and train the decision tree classifier\n",
        "        clf.fit(X_train, y_train)\n",
        "        y_pred = clf.predict(X_test)\n",
        "\n",
        "        # Calculate the confusion matrix\n",
        "        cm = confusion_matrix(y_test, y_pred)\n",
        "\n",
        "        # Append the confusion matrix to the list\n",
        "        confusion_matrics.append(cm)\n",
        "\n",
        "        # Store the decision tree in a dictionary\n",
        "        decision_trees[i] = clf\n",
        "        \n",
        "    tree.plot_tree(decision_trees[i], filled=True, fontsize=8)   \n",
        "    plt.show()\n",
        "\n",
        "    return decision_trees, confusion_matrics\n",
        "\n",
        "\n",
        "decision_trees, confusion_matrics = show_tree(data, judges_list)\n",
        "\n",
        "\n",
        "def plot_disagreement_matrix(confusion_matrices):\n",
        "    import numpy as np\n",
        "    from sklearn.metrics import confusion_matrix\n",
        "\n",
        "    num_doctors = 28\n",
        "    disagreement_matrix = np.zeros((num_doctors, num_doctors))\n",
        "\n",
        "    for i in range(num_doctors):\n",
        "        for j in range(num_doctors):\n",
        "            disagreement_matrix[i, j] = np.sum(confusion_matrices[i] != confusion_matrices[j])\n",
        "\n",
        "    print(\"Disagreement Matrix:\")\n",
        "    print(disagreement_matrix)\n",
        "\n",
        "plot_disagreement_matrix(confusion_matrics)\n"
      ],
      "metadata": {
        "id": "0ymxOlhNd7rU"
      },
      "execution_count": null,
      "outputs": []
    }
  ]
}